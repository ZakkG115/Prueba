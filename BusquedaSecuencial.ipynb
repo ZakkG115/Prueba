{
  "nbformat": 4,
  "nbformat_minor": 0,
  "metadata": {
    "colab": {
      "name": "BusquedaSecuencial.ipynb",
      "provenance": []
    },
    "kernelspec": {
      "name": "python3",
      "display_name": "Python 3"
    },
    "language_info": {
      "name": "python"
    }
  },
  "cells": [
    {
      "cell_type": "code",
      "metadata": {
        "id": "9aZQ9AsTaoa-"
      },
      "source": [
        "def indexSequentialSearch(items, value, group_division):\n",
        "  elements = [0] * 20\n",
        "  indices = [0] * 20\n",
        "  i, j, index, end = 0,0,0,0\n",
        "  \n",
        "  flag = 0\n",
        "\n",
        "  for i in range(0, len(items), group_division):\n",
        "    elements[index] = items[i]\n",
        "    indices[index] = i\n",
        "    index += 1\n",
        "  print('Elementos:', elements)\n",
        "  print('Indices:', indices)\n",
        "  \n",
        "  if value < elements[0]:\n",
        "    print('No se encuentra el valor')\n",
        "    return exit(0)\n",
        "  else:\n",
        "    for i in range(0, index + 1):\n",
        "      if value <= elements[i]:\n",
        "        start = indices[i-1]\n",
        "        end = indices[i]\n",
        "        flag = 1\n",
        "        break\n",
        "\n",
        "  if flag == 0:\n",
        "    start = indices[i-1]\n",
        "    print('Start:', start)\n",
        "    end = len(items)\n",
        "    print('End:', end)\n",
        "\n",
        "  for i in range(start,end + 1):\n",
        "    if value == items[i]:\n",
        "      j = 1\n",
        "      break\n",
        "\n",
        "  if j == 1:\n",
        "    print('Mi valor fue encontrado en la posición', i)\n",
        "  else:\n",
        "    print('No se encuentra')\n"
      ],
      "execution_count": 12,
      "outputs": []
    },
    {
      "cell_type": "code",
      "metadata": {
        "colab": {
          "base_uri": "https://localhost:8080/"
        },
        "id": "hc90bKy3fpTC",
        "outputId": "d57d852e-4413-4862-e957-d8977015b793"
      },
      "source": [
        "items = [12,15,17,21,28,36,57,81,99]\n",
        "indexSequentialSearch(items,36,4)"
      ],
      "execution_count": 16,
      "outputs": [
        {
          "output_type": "stream",
          "text": [
            "Elementos: [12, 28, 99, 0, 0, 0, 0, 0, 0, 0, 0, 0, 0, 0, 0, 0, 0, 0, 0, 0]\n",
            "Indices: [0, 4, 8, 0, 0, 0, 0, 0, 0, 0, 0, 0, 0, 0, 0, 0, 0, 0, 0, 0]\n",
            "Mi valor fue encontrado en la posición 5\n"
          ],
          "name": "stdout"
        }
      ]
    },
    {
      "cell_type": "code",
      "metadata": {
        "id": "zvurUw_rgF7M"
      },
      "source": [
        ""
      ],
      "execution_count": null,
      "outputs": []
    }
  ]
}