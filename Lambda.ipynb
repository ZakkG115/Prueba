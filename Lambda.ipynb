{
  "nbformat": 4,
  "nbformat_minor": 0,
  "metadata": {
    "colab": {
      "name": "Lambda.ipynb",
      "provenance": []
    },
    "kernelspec": {
      "name": "python3",
      "display_name": "Python 3"
    },
    "language_info": {
      "name": "python"
    }
  },
  "cells": [
    {
      "cell_type": "code",
      "metadata": {
        "id": "bg0drYeCS3XE"
      },
      "source": [
        "def modulo2(x):\n",
        "  if x  % 2 != 0:\n",
        "    return True\n",
        "  else:\n",
        "    False"
      ],
      "execution_count": 1,
      "outputs": []
    },
    {
      "cell_type": "code",
      "metadata": {
        "colab": {
          "base_uri": "https://localhost:8080/"
        },
        "id": "UceUCdj3TIf4",
        "outputId": "49fa88d5-9ab9-4451-bd7c-beba78e2f478"
      },
      "source": [
        "modulo2(5)"
      ],
      "execution_count": 2,
      "outputs": [
        {
          "output_type": "execute_result",
          "data": {
            "text/plain": [
              "True"
            ]
          },
          "metadata": {
            "tags": []
          },
          "execution_count": 2
        }
      ]
    },
    {
      "cell_type": "code",
      "metadata": {
        "id": "QcJmwWG_TJ_U"
      },
      "source": [
        "modulo_par = lambda numero: numero % 2 != 0"
      ],
      "execution_count": 3,
      "outputs": []
    },
    {
      "cell_type": "code",
      "metadata": {
        "colab": {
          "base_uri": "https://localhost:8080/"
        },
        "id": "75-Xhh-OTW5Q",
        "outputId": "a625767c-c669-4464-8953-cf987ca23875"
      },
      "source": [
        "modulo_par(2)"
      ],
      "execution_count": 4,
      "outputs": [
        {
          "output_type": "execute_result",
          "data": {
            "text/plain": [
              "False"
            ]
          },
          "metadata": {
            "tags": []
          },
          "execution_count": 4
        }
      ]
    },
    {
      "cell_type": "code",
      "metadata": {
        "id": "lm38AKC2TZlT"
      },
      "source": [
        "suma = lambda x,y : x+y"
      ],
      "execution_count": 5,
      "outputs": []
    },
    {
      "cell_type": "code",
      "metadata": {
        "colab": {
          "base_uri": "https://localhost:8080/"
        },
        "id": "kSE-1K98TzTW",
        "outputId": "ac2d9dba-4a75-4920-fa97-2faeb4cd008d"
      },
      "source": [
        "suma(4,5)"
      ],
      "execution_count": 6,
      "outputs": [
        {
          "output_type": "execute_result",
          "data": {
            "text/plain": [
              "9"
            ]
          },
          "metadata": {
            "tags": []
          },
          "execution_count": 6
        }
      ]
    },
    {
      "cell_type": "code",
      "metadata": {
        "colab": {
          "base_uri": "https://localhost:8080/"
        },
        "id": "M0CRnATcUJ4s",
        "outputId": "02292e1c-bad0-4190-8571-3ddaf1cddaa6"
      },
      "source": [
        "type (modulo_par)"
      ],
      "execution_count": 7,
      "outputs": [
        {
          "output_type": "execute_result",
          "data": {
            "text/plain": [
              "function"
            ]
          },
          "metadata": {
            "tags": []
          },
          "execution_count": 7
        }
      ]
    },
    {
      "cell_type": "code",
      "metadata": {
        "colab": {
          "base_uri": "https://localhost:8080/"
        },
        "id": "hz3jG26xUc0i",
        "outputId": "5675c31f-8e04-434a-dfce-cb1d5aacb40e"
      },
      "source": [
        "type (modulo2)"
      ],
      "execution_count": 8,
      "outputs": [
        {
          "output_type": "execute_result",
          "data": {
            "text/plain": [
              "function"
            ]
          },
          "metadata": {
            "tags": []
          },
          "execution_count": 8
        }
      ]
    },
    {
      "cell_type": "code",
      "metadata": {
        "id": "fnVvWQMcUehz"
      },
      "source": [
        "funcion_cuadrad = lambda x: True if x**2 > 100 else False  #-------- Expresiones ternarias"
      ],
      "execution_count": 13,
      "outputs": []
    },
    {
      "cell_type": "code",
      "metadata": {
        "colab": {
          "base_uri": "https://localhost:8080/"
        },
        "id": "83LzbogKUoaw",
        "outputId": "468ce1d0-9db3-4c0b-e243-7d2f696a4686"
      },
      "source": [
        "funcion_cuadrad(6)"
      ],
      "execution_count": 14,
      "outputs": [
        {
          "output_type": "execute_result",
          "data": {
            "text/plain": [
              "False"
            ]
          },
          "metadata": {
            "tags": []
          },
          "execution_count": 14
        }
      ]
    },
    {
      "cell_type": "code",
      "metadata": {
        "colab": {
          "base_uri": "https://localhost:8080/"
        },
        "id": "RZnPoroqUsGU",
        "outputId": "c1d72d6a-125b-46ca-f421-6007f704fba3"
      },
      "source": [
        "funcion_cuadrad(11)"
      ],
      "execution_count": 15,
      "outputs": [
        {
          "output_type": "execute_result",
          "data": {
            "text/plain": [
              "True"
            ]
          },
          "metadata": {
            "tags": []
          },
          "execution_count": 15
        }
      ]
    },
    {
      "cell_type": "code",
      "metadata": {
        "id": "6mX_tCaUUw_-"
      },
      "source": [
        "lista_compleja = [1,2,3,[4,5,6]]\n",
        "\n",
        "lista_anidada = filter(modulo_par, lista_compleja)"
      ],
      "execution_count": 19,
      "outputs": []
    },
    {
      "cell_type": "code",
      "metadata": {
        "id": "TsIScDxxVZnn"
      },
      "source": [
        "lista_compleja_2 = [1,2,3,4,5, [1,2,3,4]]\n",
        "\n",
        "lista_anidada_extraccion = filter(lambda x: x if type (x) == list else False, lista_compleja_2)"
      ],
      "execution_count": 23,
      "outputs": []
    },
    {
      "cell_type": "code",
      "metadata": {
        "colab": {
          "base_uri": "https://localhost:8080/"
        },
        "id": "lvWZj74GVdoP",
        "outputId": "23fb5ac3-126d-4fef-8fe2-34a481517277"
      },
      "source": [
        "list(lista_anidada_extraccion)"
      ],
      "execution_count": 25,
      "outputs": [
        {
          "output_type": "execute_result",
          "data": {
            "text/plain": [
              "[[1, 2, 3, 4]]"
            ]
          },
          "metadata": {
            "tags": []
          },
          "execution_count": 25
        }
      ]
    },
    {
      "cell_type": "code",
      "metadata": {
        "id": "1D793XoTXJ9F"
      },
      "source": [
        "a = [(1,2), (3,4), (5,6)]\n",
        "\n",
        "b = map(lambda x: x[0]+x[1],a)\n"
      ],
      "execution_count": 26,
      "outputs": []
    },
    {
      "cell_type": "code",
      "metadata": {
        "colab": {
          "base_uri": "https://localhost:8080/"
        },
        "id": "ayhhU8y6Y5pc",
        "outputId": "833bb44c-5df5-49b4-8180-36c9c00c9feb"
      },
      "source": [
        "list(b)"
      ],
      "execution_count": 27,
      "outputs": [
        {
          "output_type": "execute_result",
          "data": {
            "text/plain": [
              "[3, 7, 11]"
            ]
          },
          "metadata": {
            "tags": []
          },
          "execution_count": 27
        }
      ]
    },
    {
      "cell_type": "code",
      "metadata": {
        "id": "_qvrANBiY62z"
      },
      "source": [
        "frutas = ['manzana', 'naranja', 'platano', 'pera']\n",
        "\n",
        "map_object = map(lambda x: x if x[0] == 'p' else None, frutas)"
      ],
      "execution_count": 32,
      "outputs": []
    },
    {
      "cell_type": "code",
      "metadata": {
        "colab": {
          "base_uri": "https://localhost:8080/"
        },
        "id": "meYOn7UDZpS2",
        "outputId": "986dab88-a531-4ab4-e199-7637c88190b4"
      },
      "source": [
        "list(map_object)"
      ],
      "execution_count": 33,
      "outputs": [
        {
          "output_type": "execute_result",
          "data": {
            "text/plain": [
              "[None, None, 'platano', 'pera']"
            ]
          },
          "metadata": {
            "tags": []
          },
          "execution_count": 33
        }
      ]
    },
    {
      "cell_type": "code",
      "metadata": {
        "id": "z643YYZsZy5e"
      },
      "source": [
        "from functools import reduce"
      ],
      "execution_count": 34,
      "outputs": []
    },
    {
      "cell_type": "code",
      "metadata": {
        "id": "ufgp_yHjaQTt"
      },
      "source": [
        "lista = [2,4,3,5,1,7,8]\n",
        "minimo = reduce(lambda a,b: a if a < b else b, lista)"
      ],
      "execution_count": 39,
      "outputs": []
    },
    {
      "cell_type": "code",
      "metadata": {
        "colab": {
          "base_uri": "https://localhost:8080/"
        },
        "id": "F2lbe7G8a7hj",
        "outputId": "079381c5-00ea-470d-b850-e76913841b31"
      },
      "source": [
        "minimo"
      ],
      "execution_count": 40,
      "outputs": [
        {
          "output_type": "execute_result",
          "data": {
            "text/plain": [
              "1"
            ]
          },
          "metadata": {
            "tags": []
          },
          "execution_count": 40
        }
      ]
    },
    {
      "cell_type": "code",
      "metadata": {
        "colab": {
          "base_uri": "https://localhost:8080/"
        },
        "id": "5zq2OXOWbw2g",
        "outputId": "960f32af-1a2d-43ca-aefa-58dee7f8d5b5"
      },
      "source": [
        "reduce(lambda x,y: x+y, lista)"
      ],
      "execution_count": 41,
      "outputs": [
        {
          "output_type": "execute_result",
          "data": {
            "text/plain": [
              "30"
            ]
          },
          "metadata": {
            "tags": []
          },
          "execution_count": 41
        }
      ]
    },
    {
      "cell_type": "code",
      "metadata": {
        "id": "LdZKSmMjb-kv"
      },
      "source": [
        ""
      ],
      "execution_count": null,
      "outputs": []
    }
  ]
}