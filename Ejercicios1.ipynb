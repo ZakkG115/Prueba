{
  "nbformat": 4,
  "nbformat_minor": 0,
  "metadata": {
    "colab": {
      "name": "Ejercicios1.ipynb",
      "provenance": []
    },
    "kernelspec": {
      "name": "python3",
      "display_name": "Python 3"
    },
    "language_info": {
      "name": "python"
    }
  },
  "cells": [
    {
      "cell_type": "markdown",
      "metadata": {
        "id": "6DXyTFzMlVlS"
      },
      "source": [
        "#**Ejercio 1:**#\n",
        "Se tiene la siguiente lista de valores:\n",
        "\n",
        "lista_ = [1,2,3,4,5,6,6, [2,4,5,6,7,8,9], 'hola', 45]\n",
        "\n",
        "Necesitamos extraer de la lista anidada todos los valores que sean menores a 7 ya que son de vital importancia para generar un diccionario de datos.\n",
        "\n",
        "Consejo: use type para conocer el tipo de datos de los valores de la lista."
      ]
    },
    {
      "cell_type": "code",
      "metadata": {
        "id": "5nCzZqXQk3jk",
        "colab": {
          "base_uri": "https://localhost:8080/"
        },
        "outputId": "85c894e2-243a-4aad-d4f6-1a53330b5610"
      },
      "source": [
        "lista_ = [1,2,3,4,5,6,6, [2,4,5,6,6,5,4,3,2,1,5,6,7,8,9], 'hola', 45]\n",
        "\n",
        "\n",
        "def get_values_mix_list(lista_):\n",
        "\n",
        "  for i in range(0, len(lista_)):\n",
        "    if type (lista_[i]) == list:\n",
        "      data_extraido = lista_[i]\n",
        "      lista_menor_siete = []\n",
        "      for j in range(0, len(data_extraido)):\n",
        "        if data_extraido[j] < 7:\n",
        "          lista_menor_siete.append(data_extraido[j])\n",
        "  return lista_menor_siete\n",
        "\n",
        "get_list = get_values_mix_list(lista_)\n",
        "result = [2,4,5,6,6,5,4,3,2,1,5,6]\n",
        "print(result == get_list)"
      ],
      "execution_count": null,
      "outputs": [
        {
          "output_type": "stream",
          "text": [
            "True\n"
          ],
          "name": "stdout"
        }
      ]
    },
    {
      "cell_type": "code",
      "metadata": {
        "colab": {
          "base_uri": "https://localhost:8080/"
        },
        "id": "cLRVLZFAAal3",
        "outputId": "fd1759b1-0842-4ea7-84d8-6ac4836923df"
      },
      "source": [
        "lista_ = [1,2,3,4,5,6,6, [2,4,5,6,6,5,4,3,2,1,5,6,7,8,9], 'hola', 45]\n",
        "type(lista_[7])"
      ],
      "execution_count": null,
      "outputs": [
        {
          "output_type": "execute_result",
          "data": {
            "text/plain": [
              "list"
            ]
          },
          "metadata": {
            "tags": []
          },
          "execution_count": 5
        }
      ]
    },
    {
      "cell_type": "markdown",
      "metadata": {
        "id": "f2ByOyaWFNdC"
      },
      "source": [
        "#**Ejercicio 2:**# \n",
        "Se trata de que usted genere una función para que los valores obtenidos en la lista pasen a formar parte de un diccionario que nos ayude a hacer consultas de los valores que se encuentran en esta estrctura de datos."
      ]
    },
    {
      "cell_type": "code",
      "metadata": {
        "id": "up_B7LMdAgoN"
      },
      "source": [
        "diccionario_result = {0: 2, 1: 4, 2: 5, 3: 6, 4: 6, 5: 5, 6: 4, 7: 3, 8: 2, 9: 1, 10: 5, 11: 6}\n",
        "\n",
        "def create_dict(lista):\n",
        "\n",
        "  dic = {}\n",
        "  keys = range(len(lista))\n",
        "  for i in keys:\n",
        "    dic[i] = lista[i]\n",
        "\n",
        "  return dic\n",
        "\n",
        "#Los siguientes comentario se corre cuando se obtenga la lista para evaluar si corresponde al resultado dado\n",
        "#diccionario_result = {0: 2, 1: 4, 2: 5, 3: 6, 4: 6, 5: 5, 6: 4, 7: 3, 8: 2, 9: 1, 10: 5, 11: 6}\n",
        "#print(diccionario_result == get_dict)"
      ],
      "execution_count": null,
      "outputs": []
    },
    {
      "cell_type": "code",
      "metadata": {
        "id": "tzoJueObHov2"
      },
      "source": [
        "diccionario = create_dict(get_list)"
      ],
      "execution_count": null,
      "outputs": []
    },
    {
      "cell_type": "code",
      "metadata": {
        "colab": {
          "base_uri": "https://localhost:8080/"
        },
        "id": "jxDOi3rEIAGC",
        "outputId": "9bbdaaf8-b230-4bba-fbf0-ae870c59637d"
      },
      "source": [
        "diccionario"
      ],
      "execution_count": null,
      "outputs": [
        {
          "output_type": "execute_result",
          "data": {
            "text/plain": [
              "{0: 2, 1: 4, 2: 5, 3: 6, 4: 6, 5: 5, 6: 4, 7: 3, 8: 2, 9: 1, 10: 5, 11: 6}"
            ]
          },
          "metadata": {
            "tags": []
          },
          "execution_count": 22
        }
      ]
    },
    {
      "cell_type": "markdown",
      "metadata": {
        "id": "sTWUn2TlFTNQ"
      },
      "source": [
        "#**Objetos web: JSON**#\n",
        "JSON, de JavaScript Object Notation, es un estándar de formato para contenidos en la web. La notación describe el formato agrupado de los objetos a través de [ ] y { }, lo que hace que sea muy similar a trabajar con listas y diccionarios de manera conjunta.\n",
        "\n",
        "Este es un estándar muy utilizado en la actualidad para comunicar procesos y servicios a través de la web."
      ]
    },
    {
      "cell_type": "markdown",
      "metadata": {
        "id": "WSx2SJ_mFznR"
      },
      "source": [
        "#**Ejercicio 3.**#\n",
        "Se hizo una petición http y se obtiene la siguiente información en un conjunto de lista y diccionario, necesito obtener cierta información de alto valor para relizar un modelo que nos ayude a identificar objetos en una imágen, obtenga los valores de la key 'object' y almacenelos en una lista para su posterior análisis."
      ]
    },
    {
      "cell_type": "code",
      "metadata": {
        "id": "3nL-xCLIFaNx"
      },
      "source": [
        "cognitive_response = [\n",
        "  {\n",
        "    \"rectangle\": {\n",
        "      \"x\": 6,\n",
        "      \"y\": 390,\n",
        "      \"w\": 48,\n",
        "      \"h\": 40\n",
        "    },\n",
        "    \"object\": \"footwear\",\n",
        "    \"confidence\": 0.513\n",
        "  },\n",
        "  {\n",
        "    \"rectangle\": {\n",
        "      \"x\": 104,\n",
        "      \"y\": 104,\n",
        "      \"w\": 127,\n",
        "      \"h\": 323\n",
        "    },\n",
        "    \"object\": \"person\",\n",
        "    \"confidence\": 0.763\n",
        "  },\n",
        "  {\n",
        "    \"rectangle\": {\n",
        "      \"x\": 174,\n",
        "      \"y\": 236,\n",
        "      \"w\": 113,\n",
        "      \"h\": 74\n",
        "    },\n",
        "    \"object\": \"Laptop\",\n",
        "    \"parent\": {\n",
        "      \"object\": \"computer\",\n",
        "      \"confidence\": 0.56\n",
        "    },\n",
        "    \"confidence\": 0.553\n",
        "  },\n",
        "  {\n",
        "    \"rectangle\": {\n",
        "      \"x\": 351,\n",
        "      \"y\": 331,\n",
        "      \"w\": 154,\n",
        "      \"h\": 99\n",
        "    },\n",
        "    \"object\": \"seating\",\n",
        "    \"confidence\": 0.525\n",
        "  },\n",
        "  {\n",
        "    \"rectangle\": {\n",
        "      \"x\": 0,\n",
        "      \"y\": 101,\n",
        "      \"w\": 174,\n",
        "      \"h\": 329\n",
        "    },\n",
        "    \"object\": \"person\",\n",
        "    \"confidence\": 0.855\n",
        "  },\n",
        "  {\n",
        "    \"rectangle\": {\n",
        "      \"x\": 223,\n",
        "      \"y\": 99,\n",
        "      \"w\": 199,\n",
        "      \"h\": 322\n",
        "    },\n",
        "    \"object\": \"person\",\n",
        "    \"confidence\": 0.725\n",
        "  },\n",
        "  {\n",
        "    \"rectangle\": {\n",
        "      \"x\": 154,\n",
        "      \"y\": 191,\n",
        "      \"w\": 387,\n",
        "      \"h\": 218\n",
        "    },\n",
        "    \"object\": \"seating\",\n",
        "    \"confidence\": 0.679\n",
        "  },\n",
        "  {\n",
        "    \"rectangle\": {\n",
        "      \"x\": 111,\n",
        "      \"y\": 275,\n",
        "      \"w\": 264,\n",
        "      \"h\": 151\n",
        "    },\n",
        "    \"object\": \"table\",\n",
        "    \"confidence\": 0.601\n",
        "  }\n",
        "]"
      ],
      "execution_count": null,
      "outputs": []
    },
    {
      "cell_type": "code",
      "metadata": {
        "colab": {
          "base_uri": "https://localhost:8080/"
        },
        "id": "0B-msqKmGCb-",
        "outputId": "3d153edb-b666-4c7e-ee37-2f3176ba5c71"
      },
      "source": [
        "def get_object():\n",
        "  l = []\n",
        "  for i in range(0, len(cognitive_response)):\n",
        "    l.append(cognitive_response[i]['object'])\n",
        "  \n",
        "  return l\n",
        "\n",
        "real_list_objects = ['footwear', 'person', 'Laptop', 'seating', 'person', 'person', 'seating', 'table']\n",
        "print(l == real_list_objects)"
      ],
      "execution_count": null,
      "outputs": [
        {
          "output_type": "stream",
          "text": [
            "True\n"
          ],
          "name": "stdout"
        }
      ]
    },
    {
      "cell_type": "code",
      "metadata": {
        "id": "H5DNJ6M2JFm6"
      },
      "source": [
        ""
      ],
      "execution_count": null,
      "outputs": []
    }
  ]
}