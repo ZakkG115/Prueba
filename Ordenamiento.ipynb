{
  "nbformat": 4,
  "nbformat_minor": 0,
  "metadata": {
    "colab": {
      "name": "Ordenamiento.ipynb",
      "provenance": []
    },
    "kernelspec": {
      "name": "python3",
      "display_name": "Python 3"
    },
    "language_info": {
      "name": "python"
    }
  },
  "cells": [
    {
      "cell_type": "code",
      "metadata": {
        "id": "RjiRcsc6SnXg"
      },
      "source": [
        "##Worst case\n",
        "#### Término dominante O(n^2)\n",
        "def BubleSort(lista_):\n",
        "  for steps in range(len(lista_)-1,0,-1):\n",
        "    print('steps', steps)\n",
        "    for i in range(steps):  ##(6-1)\n",
        "        print('indice:', i, \"Me estas comparando con:\", i+1)\n",
        "        if lista_[i] > lista_[i+1]:\n",
        "          temp = lista_[i]\n",
        "          lista_[i] = lista_[i+1]\n",
        "          lista_[i+1] = temp\n",
        "  return lista_\n",
        "\n",
        "\n"
      ],
      "execution_count": 39,
      "outputs": []
    },
    {
      "cell_type": "code",
      "metadata": {
        "colab": {
          "base_uri": "https://localhost:8080/"
        },
        "id": "Sr1PDYM-epyk",
        "outputId": "b57e3d86-0cd6-4c28-d871-32c42192ffbd"
      },
      "source": [
        "BubleSort([6,3,2,1,5])"
      ],
      "execution_count": 10,
      "outputs": [
        {
          "output_type": "execute_result",
          "data": {
            "text/plain": [
              "[1, 2, 3, 5, 6]"
            ]
          },
          "metadata": {
            "tags": []
          },
          "execution_count": 10
        }
      ]
    },
    {
      "cell_type": "code",
      "metadata": {
        "id": "OBZoLOaehzxO"
      },
      "source": [
        "def unsortedList(size_of_array):\n",
        "  import random\n",
        "\n",
        "  random_list = []\n",
        "  for i in range(0,size_of_array):\n",
        "    n = random.randint(1,100)\n",
        "    random_list.append(n)\n",
        "  return random_list\n"
      ],
      "execution_count": 13,
      "outputs": []
    },
    {
      "cell_type": "code",
      "metadata": {
        "colab": {
          "base_uri": "https://localhost:8080/"
        },
        "id": "2HbDWzm2ih-D",
        "outputId": "eed8a027-b1e3-436b-f7f4-b215fcfbd316"
      },
      "source": [
        "BubleSort(unsortedList(10))"
      ],
      "execution_count": 18,
      "outputs": [
        {
          "output_type": "execute_result",
          "data": {
            "text/plain": [
              "[1, 6, 8, 20, 48, 61, 75, 77, 89, 94]"
            ]
          },
          "metadata": {
            "tags": []
          },
          "execution_count": 18
        }
      ]
    },
    {
      "cell_type": "code",
      "metadata": {
        "id": "twX54N2bioBM"
      },
      "source": [
        "def BubleSortOptimized(lista): ##Este algoritmo se mejor caso es cuando se le presenta una lista ordenada\n",
        "                               ###Término dominante es O(n)\n",
        "\n",
        "                               ####Con un caso primedio, que sería una lista semi-ordenada, O(n^2)\n",
        "  swapped = True\n",
        "  steps_ = len(lista)-1\n",
        "  while steps_ > 0 and swapped:\n",
        "    print('Step:', steps_)\n",
        "    swapped = False\n",
        "    for i in range(steps_):\n",
        "      print('indice:', i, 'comparado con:', i+1)\n",
        "      if lista[i] > lista[i+1]:\n",
        "        swapped = True\n",
        "        temp = lista[i]\n",
        "        lista[i] = lista[i+1]\n",
        "        lista[i+1] = temp\n",
        "    steps_ = steps_ - 1\n",
        "    print(lista)\n",
        "  return lista"
      ],
      "execution_count": 42,
      "outputs": []
    },
    {
      "cell_type": "code",
      "metadata": {
        "colab": {
          "base_uri": "https://localhost:8080/"
        },
        "id": "TU78ClTWk5ad",
        "outputId": "986ad3b4-c041-45dc-98aa-22cdad19d6f1"
      },
      "source": [
        "BubleSortOptimized([5,1,4,7,2,3,6])"
      ],
      "execution_count": 34,
      "outputs": [
        {
          "output_type": "stream",
          "text": [
            "Step: 6\n",
            "indice: 0 comparado con: 1\n",
            "indice: 1 comparado con: 2\n",
            "indice: 2 comparado con: 3\n",
            "indice: 3 comparado con: 4\n",
            "indice: 4 comparado con: 5\n",
            "indice: 5 comparado con: 6\n",
            "[1, 4, 5, 2, 3, 6, 7]\n",
            "Step: 5\n",
            "indice: 0 comparado con: 1\n",
            "indice: 1 comparado con: 2\n",
            "indice: 2 comparado con: 3\n",
            "indice: 3 comparado con: 4\n",
            "indice: 4 comparado con: 5\n",
            "[1, 4, 2, 3, 5, 6, 7]\n",
            "Step: 4\n",
            "indice: 0 comparado con: 1\n",
            "indice: 1 comparado con: 2\n",
            "indice: 2 comparado con: 3\n",
            "indice: 3 comparado con: 4\n",
            "[1, 2, 3, 4, 5, 6, 7]\n",
            "Step: 3\n",
            "indice: 0 comparado con: 1\n",
            "indice: 1 comparado con: 2\n",
            "indice: 2 comparado con: 3\n",
            "[1, 2, 3, 4, 5, 6, 7]\n"
          ],
          "name": "stdout"
        },
        {
          "output_type": "execute_result",
          "data": {
            "text/plain": [
              "[1, 2, 3, 4, 5, 6, 7]"
            ]
          },
          "metadata": {
            "tags": []
          },
          "execution_count": 34
        }
      ]
    },
    {
      "cell_type": "code",
      "metadata": {
        "colab": {
          "base_uri": "https://localhost:8080/"
        },
        "id": "TpE2ZPTklRcf",
        "outputId": "37cf6fd0-3712-494d-8dd6-b7c995e99908"
      },
      "source": [
        "BubleSort([5,1,4,7,2,3,6])"
      ],
      "execution_count": 40,
      "outputs": [
        {
          "output_type": "stream",
          "text": [
            "steps 6\n",
            "indice: 0 Me estas comparando con: 1\n",
            "indice: 1 Me estas comparando con: 2\n",
            "indice: 2 Me estas comparando con: 3\n",
            "indice: 3 Me estas comparando con: 4\n",
            "indice: 4 Me estas comparando con: 5\n",
            "indice: 5 Me estas comparando con: 6\n",
            "steps 5\n",
            "indice: 0 Me estas comparando con: 1\n",
            "indice: 1 Me estas comparando con: 2\n",
            "indice: 2 Me estas comparando con: 3\n",
            "indice: 3 Me estas comparando con: 4\n",
            "indice: 4 Me estas comparando con: 5\n",
            "steps 4\n",
            "indice: 0 Me estas comparando con: 1\n",
            "indice: 1 Me estas comparando con: 2\n",
            "indice: 2 Me estas comparando con: 3\n",
            "indice: 3 Me estas comparando con: 4\n",
            "steps 3\n",
            "indice: 0 Me estas comparando con: 1\n",
            "indice: 1 Me estas comparando con: 2\n",
            "indice: 2 Me estas comparando con: 3\n",
            "steps 2\n",
            "indice: 0 Me estas comparando con: 1\n",
            "indice: 1 Me estas comparando con: 2\n",
            "steps 1\n",
            "indice: 0 Me estas comparando con: 1\n"
          ],
          "name": "stdout"
        },
        {
          "output_type": "execute_result",
          "data": {
            "text/plain": [
              "[1, 2, 3, 4, 5, 6, 7]"
            ]
          },
          "metadata": {
            "tags": []
          },
          "execution_count": 40
        }
      ]
    },
    {
      "cell_type": "code",
      "metadata": {
        "colab": {
          "base_uri": "https://localhost:8080/"
        },
        "id": "gdcNg-Evpr-8",
        "outputId": "35dc40e4-e3ae-44b8-9214-80095f0df66f"
      },
      "source": [
        "BubleSortOptimized([1,2,3,4,5,6,7,8])"
      ],
      "execution_count": 41,
      "outputs": [
        {
          "output_type": "stream",
          "text": [
            "Step: 7\n",
            "indice: 0 comparado con: 1\n",
            "indice: 1 comparado con: 2\n",
            "indice: 2 comparado con: 3\n",
            "indice: 3 comparado con: 4\n",
            "indice: 4 comparado con: 5\n",
            "indice: 5 comparado con: 6\n",
            "indice: 6 comparado con: 7\n",
            "[1, 2, 3, 4, 5, 6, 7, 8]\n"
          ],
          "name": "stdout"
        },
        {
          "output_type": "execute_result",
          "data": {
            "text/plain": [
              "[1, 2, 3, 4, 5, 6, 7, 8]"
            ]
          },
          "metadata": {
            "tags": []
          },
          "execution_count": 41
        }
      ]
    },
    {
      "cell_type": "code",
      "metadata": {
        "id": "IFzDLC0JqGfD"
      },
      "source": [
        ""
      ],
      "execution_count": null,
      "outputs": []
    }
  ]
}