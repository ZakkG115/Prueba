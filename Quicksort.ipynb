{
  "nbformat": 4,
  "nbformat_minor": 0,
  "metadata": {
    "colab": {
      "name": "Quicksort.ipynb",
      "provenance": []
    },
    "kernelspec": {
      "name": "python3",
      "display_name": "Python 3"
    },
    "language_info": {
      "name": "python"
    }
  },
  "cells": [
    {
      "cell_type": "code",
      "metadata": {
        "id": "3vuzgXVrMJYi"
      },
      "source": [
        "def factorial(n):\n",
        "  if n == 0 or n == 1:\n",
        "    return 1\n",
        "  else:\n",
        "    return n * factorial(n-1)\n",
        "\n",
        "\n",
        "#5 120\n",
        "#4 24 \n",
        "#3 6 \n",
        "#2 2 \n",
        "#1"
      ],
      "execution_count": null,
      "outputs": []
    },
    {
      "cell_type": "code",
      "metadata": {
        "colab": {
          "base_uri": "https://localhost:8080/"
        },
        "id": "_a1eXtMjN_W5",
        "outputId": "d7baacce-eaf1-4fac-9984-032a9ce7913a"
      },
      "source": [
        "factorial(5)"
      ],
      "execution_count": null,
      "outputs": [
        {
          "output_type": "execute_result",
          "data": {
            "text/plain": [
              "120"
            ]
          },
          "metadata": {
            "tags": []
          },
          "execution_count": 2
        }
      ]
    },
    {
      "cell_type": "code",
      "metadata": {
        "id": "fhwx-1QFOBDE",
        "colab": {
          "base_uri": "https://localhost:8080/"
        },
        "outputId": "ef281952-8e3e-4137-a8b3-c083eb4e9000"
      },
      "source": [
        "def particion(items, low, high):\n",
        "  pivote = items[high]\n",
        "  i = low\n",
        "  for j in range(low, high):\n",
        "    if items[j] < pivote:\n",
        "      items[i], items[j] = items[j], items[i]\n",
        "      i += 1\n",
        "  pivot_index = i\n",
        "  items[pivot_index], items[high] = items[high], items[pivot_index]\n",
        "  return pivot_index\n",
        "\n",
        "def quicksort(items, low, high):\n",
        "  if low < high:\n",
        "    p_index = particion(items, low, high)\n",
        "    quicksort(items, low, ((p_index) - 1))        #####Corre por la izquierda (menores al pivote)\n",
        "    quicksort(items, ((p_index) + 1), high)       #####Corre por la derecha (mayores al pivote)\n",
        "\n",
        "def quicksort_prueba():\n",
        "  lista_test = [9,5,3,6,1,0,7,8,4,2]\n",
        "  low = 0\n",
        "  high = len(lista_test) -1\n",
        "  print('Lista Desordenada')\n",
        "  print(lista_test)\n",
        "  quicksort(lista_test, low, high)\n",
        "  print('Lista Ordenada')\n",
        "  print(lista_test)\n",
        "\n",
        "quicksort_prueba()"
      ],
      "execution_count": 28,
      "outputs": [
        {
          "output_type": "stream",
          "text": [
            "Lista Desordenada\n",
            "[9, 5, 3, 6, 1, 0, 7, 8, 4, 2]\n",
            "Lista Ordenada\n",
            "[0, 1, 2, 3, 4, 5, 6, 7, 8, 9]\n"
          ],
          "name": "stdout"
        }
      ]
    },
    {
      "cell_type": "code",
      "metadata": {
        "id": "L-N5unmaKXYV"
      },
      "source": [
        "def particion(items, low, high):\n",
        "  pivote = items[high]\n",
        "  print('pivote', pivote)\n",
        "  i = low\n",
        "  for j in range(low, high):\n",
        "    print('indice j:', j)\n",
        "    if items[j] < pivote:\n",
        "      items[i], items[j] = items[j], items[i]\n",
        "      print('valores cambiados:',items[i], items[j])\n",
        "      i += 1\n",
        "  pivot_index = i\n",
        "  print('Pivot index', pivot_index)\n",
        "  items[pivot_index], items[high] = items[high], items[pivot_index]\n",
        "  print(items)\n",
        "  return pivot_index"
      ],
      "execution_count": 47,
      "outputs": []
    },
    {
      "cell_type": "code",
      "metadata": {
        "colab": {
          "base_uri": "https://localhost:8080/"
        },
        "id": "YL4rUMRKOwZs",
        "outputId": "c42903ba-bbbe-4886-a9aa-1ef3f34464ed"
      },
      "source": [
        "lista_chida = [9,5,3,6,1,0,7,8,4,2]\n",
        "low = 0\n",
        "high = len(lista_chida)-1\n",
        "\n",
        "particion(lista_chida, low, high)"
      ],
      "execution_count": 48,
      "outputs": [
        {
          "output_type": "stream",
          "text": [
            "pivote 2\n",
            "indice j: 0\n",
            "indice j: 1\n",
            "indice j: 2\n",
            "indice j: 3\n",
            "indice j: 4\n",
            "valores cambiados: 1 9\n",
            "indice j: 5\n",
            "valores cambiados: 0 5\n",
            "indice j: 6\n",
            "indice j: 7\n",
            "indice j: 8\n",
            "Pivot index 2\n",
            "[1, 0, 2, 6, 9, 5, 7, 8, 4, 3]\n"
          ],
          "name": "stdout"
        },
        {
          "output_type": "execute_result",
          "data": {
            "text/plain": [
              "2"
            ]
          },
          "metadata": {
            "tags": []
          },
          "execution_count": 48
        }
      ]
    },
    {
      "cell_type": "code",
      "metadata": {
        "id": "huPq_-omPFRW"
      },
      "source": [
        ""
      ],
      "execution_count": null,
      "outputs": []
    }
  ]
}