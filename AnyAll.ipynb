{
  "nbformat": 4,
  "nbformat_minor": 0,
  "metadata": {
    "colab": {
      "name": "AnyAll.ipynb",
      "provenance": []
    },
    "kernelspec": {
      "name": "python3",
      "display_name": "Python 3"
    },
    "language_info": {
      "name": "python"
    }
  },
  "cells": [
    {
      "cell_type": "code",
      "metadata": {
        "colab": {
          "base_uri": "https://localhost:8080/"
        },
        "id": "n0oBtXpRNV1o",
        "outputId": "fa472cde-492a-4272-8877-08573a1d8d28"
      },
      "source": [
        "lista_valores = [-1,2,1,3]\n",
        "any(lista_valores)"
      ],
      "execution_count": 15,
      "outputs": [
        {
          "output_type": "execute_result",
          "data": {
            "text/plain": [
              "True"
            ]
          },
          "metadata": {
            "tags": []
          },
          "execution_count": 15
        }
      ]
    },
    {
      "cell_type": "code",
      "metadata": {
        "colab": {
          "base_uri": "https://localhost:8080/"
        },
        "id": "NX7xM1LTNa5c",
        "outputId": "142b06d2-2f4c-46f6-8d81-1df0c47b3d68"
      },
      "source": [
        "all([1,2,3,4,5])"
      ],
      "execution_count": 2,
      "outputs": [
        {
          "output_type": "execute_result",
          "data": {
            "text/plain": [
              "True"
            ]
          },
          "metadata": {
            "tags": []
          },
          "execution_count": 2
        }
      ]
    },
    {
      "cell_type": "code",
      "metadata": {
        "colab": {
          "base_uri": "https://localhost:8080/"
        },
        "id": "welZkbNaNqtW",
        "outputId": "2d07785f-81c3-4ef4-9b8d-621cb6c6893c"
      },
      "source": [
        "lista_strings = ['A', 'B', 'C', ' ']\n",
        "all(lista_strings)"
      ],
      "execution_count": 4,
      "outputs": [
        {
          "output_type": "execute_result",
          "data": {
            "text/plain": [
              "True"
            ]
          },
          "metadata": {
            "tags": []
          },
          "execution_count": 4
        }
      ]
    },
    {
      "cell_type": "code",
      "metadata": {
        "colab": {
          "base_uri": "https://localhost:8080/"
        },
        "id": "nvqtHmrhOCmj",
        "outputId": "24abd0f3-1d73-4d1f-9a18-3ec3a7f320ae"
      },
      "source": [
        "print(2 == 2 or 3 == 4 or 5 == 1)"
      ],
      "execution_count": 6,
      "outputs": [
        {
          "output_type": "stream",
          "text": [
            "True\n"
          ],
          "name": "stdout"
        }
      ]
    },
    {
      "cell_type": "code",
      "metadata": {
        "colab": {
          "base_uri": "https://localhost:8080/"
        },
        "id": "Mu8VKs3cOZFt",
        "outputId": "d25179c7-56e8-495d-9628-2116d07019d6"
      },
      "source": [
        "print(2 == 2 and 3 == 4)"
      ],
      "execution_count": 7,
      "outputs": [
        {
          "output_type": "stream",
          "text": [
            "False\n"
          ],
          "name": "stdout"
        }
      ]
    },
    {
      "cell_type": "code",
      "metadata": {
        "colab": {
          "base_uri": "https://localhost:8080/"
        },
        "id": "gAaGs12DPJzg",
        "outputId": "1d09e741-f381-4612-f42e-8140d8d64d1e"
      },
      "source": [
        "print(2 == 2 and 3 == 3 and 6 == 6)"
      ],
      "execution_count": 9,
      "outputs": [
        {
          "output_type": "stream",
          "text": [
            "True\n"
          ],
          "name": "stdout"
        }
      ]
    },
    {
      "cell_type": "code",
      "metadata": {
        "colab": {
          "base_uri": "https://localhost:8080/"
        },
        "id": "iEcpitIcPc3H",
        "outputId": "a3b851f6-40af-4a9c-8d94-eff4db60c403"
      },
      "source": [
        "lista = [False, False, False, False]\n",
        "any(lista)"
      ],
      "execution_count": 11,
      "outputs": [
        {
          "output_type": "execute_result",
          "data": {
            "text/plain": [
              "False"
            ]
          },
          "metadata": {
            "tags": []
          },
          "execution_count": 11
        }
      ]
    },
    {
      "cell_type": "code",
      "metadata": {
        "id": "H3ZGUPJlPm9s"
      },
      "source": [
        "old_list = [2,1,3,8,10,11,13]\n",
        "\n",
        "list_modulo_dos = list(map(lambda x: x%2 == 0, old_list))"
      ],
      "execution_count": 12,
      "outputs": []
    },
    {
      "cell_type": "code",
      "metadata": {
        "colab": {
          "base_uri": "https://localhost:8080/"
        },
        "id": "djiypYm5QVEt",
        "outputId": "06b0007e-ce52-4b95-b158-1a49cbbbe31a"
      },
      "source": [
        "any(list_modulo_dos)"
      ],
      "execution_count": 14,
      "outputs": [
        {
          "output_type": "execute_result",
          "data": {
            "text/plain": [
              "True"
            ]
          },
          "metadata": {
            "tags": []
          },
          "execution_count": 14
        }
      ]
    },
    {
      "cell_type": "code",
      "metadata": {
        "id": "htxJvHKeQeCz"
      },
      "source": [
        ""
      ],
      "execution_count": null,
      "outputs": []
    }
  ]
}