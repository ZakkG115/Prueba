{
  "nbformat": 4,
  "nbformat_minor": 0,
  "metadata": {
    "colab": {
      "name": "Practica2.ipynb",
      "provenance": []
    },
    "kernelspec": {
      "name": "python3",
      "display_name": "Python 3"
    },
    "language_info": {
      "name": "python"
    }
  },
  "cells": [
    {
      "cell_type": "markdown",
      "metadata": {
        "id": "2kPa0glGOQ7i"
      },
      "source": [
        "#**Análisis y complejidad de algoritmos**"
      ]
    },
    {
      "cell_type": "code",
      "metadata": {
        "colab": {
          "base_uri": "https://localhost:8080/"
        },
        "id": "i4y1WYjXOOj4",
        "outputId": "5872ce80-48ec-4940-9ed8-5d4bc20d7c77"
      },
      "source": [
        "a = 5 #------------ 1\n",
        "b = 6 #------------ 1\n",
        "c = 10 #----------- 1\n",
        "size = 3\n",
        "for i in range(size): #------- n\n",
        "  for j in range(size): #----- n*n\n",
        "    x = i*i #-------- n*n\n",
        "    y = j*j #-------- n*n\n",
        "    z = i*j #-------- n*n\n",
        "for k in range(size): #------- n\n",
        "  w = k*k #------- n\n",
        "  s = 3*k #------- n\n",
        "\n",
        "print(c) #------- 1\n",
        "\n",
        "#T(n) = 3 + 3n^2 + 2n + 1 = 3n^2 + 2n + 4\n",
        "#Término dominante en notación big o: o(n^2)"
      ],
      "execution_count": 3,
      "outputs": [
        {
          "output_type": "stream",
          "text": [
            "10\n"
          ],
          "name": "stdout"
        }
      ]
    },
    {
      "cell_type": "markdown",
      "metadata": {
        "id": "U1wfGgJGTi8d"
      },
      "source": [
        "#**Términos dominantes**"
      ]
    },
    {
      "cell_type": "code",
      "metadata": {
        "colab": {
          "base_uri": "https://localhost:8080/"
        },
        "id": "KwUwKe2MP_Y7",
        "outputId": "195b4ae4-8bcc-43c6-c994-33bdaca3940f"
      },
      "source": [
        "#Término dominante o(1)\n",
        "\n",
        "a = 1 #----- 1\n",
        "b = 2 #----- 1\n",
        "c = 1 #----- 1\n",
        "\n",
        "if a < b:\n",
        "  print('Ok') #----- 1\n",
        "else:\n",
        "  print('False') #----- 1\n",
        "\n",
        "#T(n) = 5\n",
        "#O(1)\n",
        "\n",
        "# for i in (2): #----- 1"
      ],
      "execution_count": 7,
      "outputs": [
        {
          "output_type": "stream",
          "text": [
            "Ok\n"
          ],
          "name": "stdout"
        }
      ]
    },
    {
      "cell_type": "code",
      "metadata": {
        "colab": {
          "base_uri": "https://localhost:8080/"
        },
        "id": "Kpn5b_x1UUc4",
        "outputId": "5523edeb-ded7-4214-fb0f-3bd95d96a7d8"
      },
      "source": [
        "#Notación dominante O(n)\n",
        "lista = [9,3,2,4,5,6]\n",
        "for i in range(len(lista)): #----- n\n",
        "  print(i) #----- n\n",
        "\n",
        "#T(n) = n + 1\n",
        "#O(n)\n"
      ],
      "execution_count": 8,
      "outputs": [
        {
          "output_type": "stream",
          "text": [
            "0\n",
            "1\n",
            "2\n",
            "3\n",
            "4\n",
            "5\n"
          ],
          "name": "stdout"
        }
      ]
    },
    {
      "cell_type": "code",
      "metadata": {
        "colab": {
          "base_uri": "https://localhost:8080/"
        },
        "id": "36QtXhXHU_Gc",
        "outputId": "1fa45459-9ef0-4cdd-858c-f89427e4af1a"
      },
      "source": [
        "\n",
        "array_a = [1,2,3,4,5,6,7,8,9,10]    #------- 1\n",
        "array_b = [1,2,3,4,5,6,7,8,9,10,11] #------- 1\n",
        "for i in range(len(array_a)): #------- Orden A\n",
        "  for j in range(len(array_b)): #------- Orden B\n",
        "    print(i)\n",
        "    print(j)\n",
        "\n",
        "#T(n) = (A*B) + 2\n",
        "#O(A*B)\n"
      ],
      "execution_count": 9,
      "outputs": [
        {
          "output_type": "stream",
          "text": [
            "0\n",
            "0\n",
            "0\n",
            "1\n",
            "0\n",
            "2\n",
            "0\n",
            "3\n",
            "0\n",
            "4\n",
            "0\n",
            "5\n",
            "0\n",
            "6\n",
            "0\n",
            "7\n",
            "0\n",
            "8\n",
            "0\n",
            "9\n",
            "0\n",
            "10\n",
            "1\n",
            "0\n",
            "1\n",
            "1\n",
            "1\n",
            "2\n",
            "1\n",
            "3\n",
            "1\n",
            "4\n",
            "1\n",
            "5\n",
            "1\n",
            "6\n",
            "1\n",
            "7\n",
            "1\n",
            "8\n",
            "1\n",
            "9\n",
            "1\n",
            "10\n",
            "2\n",
            "0\n",
            "2\n",
            "1\n",
            "2\n",
            "2\n",
            "2\n",
            "3\n",
            "2\n",
            "4\n",
            "2\n",
            "5\n",
            "2\n",
            "6\n",
            "2\n",
            "7\n",
            "2\n",
            "8\n",
            "2\n",
            "9\n",
            "2\n",
            "10\n",
            "3\n",
            "0\n",
            "3\n",
            "1\n",
            "3\n",
            "2\n",
            "3\n",
            "3\n",
            "3\n",
            "4\n",
            "3\n",
            "5\n",
            "3\n",
            "6\n",
            "3\n",
            "7\n",
            "3\n",
            "8\n",
            "3\n",
            "9\n",
            "3\n",
            "10\n",
            "4\n",
            "0\n",
            "4\n",
            "1\n",
            "4\n",
            "2\n",
            "4\n",
            "3\n",
            "4\n",
            "4\n",
            "4\n",
            "5\n",
            "4\n",
            "6\n",
            "4\n",
            "7\n",
            "4\n",
            "8\n",
            "4\n",
            "9\n",
            "4\n",
            "10\n",
            "5\n",
            "0\n",
            "5\n",
            "1\n",
            "5\n",
            "2\n",
            "5\n",
            "3\n",
            "5\n",
            "4\n",
            "5\n",
            "5\n",
            "5\n",
            "6\n",
            "5\n",
            "7\n",
            "5\n",
            "8\n",
            "5\n",
            "9\n",
            "5\n",
            "10\n",
            "6\n",
            "0\n",
            "6\n",
            "1\n",
            "6\n",
            "2\n",
            "6\n",
            "3\n",
            "6\n",
            "4\n",
            "6\n",
            "5\n",
            "6\n",
            "6\n",
            "6\n",
            "7\n",
            "6\n",
            "8\n",
            "6\n",
            "9\n",
            "6\n",
            "10\n",
            "7\n",
            "0\n",
            "7\n",
            "1\n",
            "7\n",
            "2\n",
            "7\n",
            "3\n",
            "7\n",
            "4\n",
            "7\n",
            "5\n",
            "7\n",
            "6\n",
            "7\n",
            "7\n",
            "7\n",
            "8\n",
            "7\n",
            "9\n",
            "7\n",
            "10\n",
            "8\n",
            "0\n",
            "8\n",
            "1\n",
            "8\n",
            "2\n",
            "8\n",
            "3\n",
            "8\n",
            "4\n",
            "8\n",
            "5\n",
            "8\n",
            "6\n",
            "8\n",
            "7\n",
            "8\n",
            "8\n",
            "8\n",
            "9\n",
            "8\n",
            "10\n",
            "9\n",
            "0\n",
            "9\n",
            "1\n",
            "9\n",
            "2\n",
            "9\n",
            "3\n",
            "9\n",
            "4\n",
            "9\n",
            "5\n",
            "9\n",
            "6\n",
            "9\n",
            "7\n",
            "9\n",
            "8\n",
            "9\n",
            "9\n",
            "9\n",
            "10\n"
          ],
          "name": "stdout"
        }
      ]
    },
    {
      "cell_type": "code",
      "metadata": {
        "id": "mb1c5QPRaO8_"
      },
      "source": [
        "def lista_anidada(seq, num):\n",
        "    avg = len(seq) / float(num)\n",
        "    out = []\n",
        "    last = 0.0\n",
        "\n",
        "    while last < len(seq):\n",
        "        out.append(seq[int(last):int(last + avg)])\n",
        "        last += avg\n",
        "\n",
        "    return out"
      ],
      "execution_count": 19,
      "outputs": []
    },
    {
      "cell_type": "code",
      "metadata": {
        "colab": {
          "base_uri": "https://localhost:8080/"
        },
        "id": "Xkw-NYDAWGLS",
        "outputId": "db11bbe3-8251-4c06-ada7-983187abad26"
      },
      "source": [
        "import time\n",
        "\n",
        "\n",
        "inicio = time.time()\n",
        "lista_anidada_1 = lista_anidada(range(100000000),10)  #------ 1\n",
        "print(lista_anidada)\n",
        "\n",
        "for i in range(0,len(lista_anidada_1)): #------ n\n",
        "  for j in range(0,len(lista_anidada_1[0])): #------ A*B\n",
        "    if lista_anidada_1[i][j] == 4: #------ A*B\n",
        "      print('El valor cuatro se encuentra en esta lista anidada') #------ A*B\n",
        "\n",
        "fin = time.time()\n",
        "print(fin-inicio)\n",
        "\n",
        "#T(n) = 1 + 2(A*B)\n",
        "#O(n) = O(A*B)\n"
      ],
      "execution_count": 25,
      "outputs": [
        {
          "output_type": "stream",
          "text": [
            "<function lista_anidada at 0x7f12e705a0e0>\n",
            "El valor cuatro se encuentra en esta lista anidada\n",
            "19.942007064819336\n"
          ],
          "name": "stdout"
        }
      ]
    },
    {
      "cell_type": "code",
      "metadata": {
        "colab": {
          "base_uri": "https://localhost:8080/",
          "height": 282
        },
        "id": "2qjOGnL6XDAp",
        "outputId": "3b841ebb-165b-4d9d-dc39-9f6b98712ecd"
      },
      "source": [
        "lista_time = [0.0005090236663818359,\n",
        "0.0045566558837890625,\n",
        "0.031154632568359375,\n",
        "0.20784211158752441,\n",
        "2.028094530105591,\n",
        "19.942007064819336]\n",
        "\n",
        "import matplotlib.pyplot as plt\n",
        "plt.plot(lista_time)\n"
      ],
      "execution_count": 26,
      "outputs": [
        {
          "output_type": "execute_result",
          "data": {
            "text/plain": [
              "[<matplotlib.lines.Line2D at 0x7f12e750d290>]"
            ]
          },
          "metadata": {
            "tags": []
          },
          "execution_count": 26
        },
        {
          "output_type": "display_data",
          "data": {
            "image/png": "[encoded data removed]",
            "text/plain": [
              "<Figure size 432x288 with 1 Axes>"
            ]
          },
          "metadata": {
            "tags": [],
            "needs_background": "light"
          }
        }
      ]
    },
    {
      "cell_type": "markdown",
      "metadata": {
        "id": "xX0QxLFIce3x"
      },
      "source": [
        "#**Problema:** \n",
        "Se tiene una lista de datos desordenada, requerimos encontrar el valor mínimo de toda nuestra lista de datos.\n",
        "Implemente una solución que sea óptima para asegurar que nuestros recursos satisfagan nuestra necesidad."
      ]
    },
    {
      "cell_type": "code",
      "metadata": {
        "id": "joD1lYOFZs4W"
      },
      "source": [
        "lista = [5,4,2,1,0]\n",
        "lista_a = [1,4,2,8,5]\n",
        "\n",
        "def findMin(alist):\n",
        "  minimo = alist[0]\n",
        "  for i in alist:\n",
        "    valor_minimo = True\n",
        "    for j in alist:\n",
        "      if i > j:\n",
        "        valor_minimo = False\n",
        "    if valor_minimo:\n",
        "      minimo = i\n",
        "  return minimo\n",
        "\n",
        "def findMax(alist):\n",
        "  maximo = alist[0]\n",
        "  for i in alist:\n",
        "    valor_maximo = True\n",
        "    for j in alist:\n",
        "      if i < j:\n",
        "        valor_maximo = False\n",
        "    if valor_maximo:\n",
        "      maximo = i\n",
        "  return maximo\n"
      ],
      "execution_count": 36,
      "outputs": []
    },
    {
      "cell_type": "code",
      "metadata": {
        "colab": {
          "base_uri": "https://localhost:8080/"
        },
        "id": "6gJrI9eOfYSO",
        "outputId": "32b36764-e013-458e-be59-8c17698b28f0"
      },
      "source": [
        "print(findMin(lista))\n",
        "print(findMax(lista_a))"
      ],
      "execution_count": 39,
      "outputs": [
        {
          "output_type": "stream",
          "text": [
            "0\n",
            "8\n"
          ],
          "name": "stdout"
        }
      ]
    }
  ]
}