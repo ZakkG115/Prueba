{
  "nbformat": 4,
  "nbformat_minor": 0,
  "metadata": {
    "colab": {
      "name": "LinearBinarySearch.ipynb",
      "provenance": []
    },
    "kernelspec": {
      "name": "python3",
      "display_name": "Python 3"
    },
    "language_info": {
      "name": "python"
    }
  },
  "cells": [
    {
      "cell_type": "code",
      "metadata": {
        "id": "AuOg0jw-Su1W"
      },
      "source": [
        "def linearSearch(items, value):\n",
        "  for i in range(0, len(items)):\n",
        "    if items[i] == value:\n",
        "      return i\n",
        "  return -1\n"
      ],
      "execution_count": 8,
      "outputs": []
    },
    {
      "cell_type": "code",
      "metadata": {
        "id": "kS2o_Pw0TIoK"
      },
      "source": [
        "items = [2,4,6,34,25,4, 34, 23, 12]"
      ],
      "execution_count": 9,
      "outputs": []
    },
    {
      "cell_type": "code",
      "metadata": {
        "id": "6ynGa_WbTgM5"
      },
      "source": [
        "def linearSearchMultiple(items, value):\n",
        "  for i in range(0, len(items)):\n",
        "    if items[i] == value:\n",
        "      print(i)\n"
      ],
      "execution_count": 10,
      "outputs": []
    },
    {
      "cell_type": "code",
      "metadata": {
        "colab": {
          "base_uri": "https://localhost:8080/"
        },
        "id": "t_zuhfMZVbrT",
        "outputId": "3f5e51c2-2d47-4899-8f8f-bc04e4d617da"
      },
      "source": [
        "linearSearchMultiple(items, 34)"
      ],
      "execution_count": 11,
      "outputs": [
        {
          "output_type": "stream",
          "text": [
            "3\n",
            "6\n"
          ],
          "name": "stdout"
        }
      ]
    },
    {
      "cell_type": "code",
      "metadata": {
        "id": "lTFjSX5cViaV"
      },
      "source": [
        "def binarySearch(items, value):\n",
        "  low = 0\n",
        "  high = len(items) - 1\n",
        "\n",
        "  while low <= high:\n",
        "    mid = (high + low)//2\n",
        "\n",
        "    if items[mid] < value:\n",
        "      low = mid + 1\n",
        "    elif items[mid] > value:\n",
        "      high = mid - 1\n",
        "    else:\n",
        "      return mid\n",
        "  return -1"
      ],
      "execution_count": 12,
      "outputs": []
    },
    {
      "cell_type": "code",
      "metadata": {
        "colab": {
          "base_uri": "https://localhost:8080/"
        },
        "id": "sKkA9WtscxN0",
        "outputId": "dc3679ef-1209-4731-d26b-aa62bbc95196"
      },
      "source": [
        "lista_ = [2,4,8,12,16,24,36]\n",
        "binarySearch(lista_, 36)"
      ],
      "execution_count": 13,
      "outputs": [
        {
          "output_type": "execute_result",
          "data": {
            "text/plain": [
              "6"
            ]
          },
          "metadata": {
            "tags": []
          },
          "execution_count": 13
        }
      ]
    },
    {
      "cell_type": "code",
      "metadata": {
        "id": "7Bg3Dp7Vc4aj"
      },
      "source": [
        "def binarySearchDesarrollo(items, value):\n",
        "  low = 0\n",
        "  high = len(items) - 1\n",
        "\n",
        "  while low <= high:\n",
        "    print('Valor low:', low)\n",
        "    print('Valor high:', high)\n",
        "    mid = (high + low)//2\n",
        "    print('Valor mid:', mid)\n",
        "    if items[mid] < value:\n",
        "      low = mid + 1\n",
        "    elif items[mid] > value:\n",
        "      high = mid - 1\n",
        "    else:\n",
        "      return mid\n",
        "  return -1"
      ],
      "execution_count": 14,
      "outputs": []
    },
    {
      "cell_type": "code",
      "metadata": {
        "colab": {
          "base_uri": "https://localhost:8080/"
        },
        "id": "v4-Nx15KdMa6",
        "outputId": "731329c7-06de-4e7d-bc39-269debe05a50"
      },
      "source": [
        "lista_ = [2,4,8,12,16,24,36]\n",
        "binarySearchDesarrollo(lista_, 36)"
      ],
      "execution_count": 15,
      "outputs": [
        {
          "output_type": "stream",
          "text": [
            "Valor low: 0\n",
            "Valor high: 6\n",
            "Valor mid: 3\n",
            "Valor low: 4\n",
            "Valor high: 6\n",
            "Valor mid: 5\n",
            "Valor low: 6\n",
            "Valor high: 6\n",
            "Valor mid: 6\n"
          ],
          "name": "stdout"
        },
        {
          "output_type": "execute_result",
          "data": {
            "text/plain": [
              "6"
            ]
          },
          "metadata": {
            "tags": []
          },
          "execution_count": 15
        }
      ]
    },
    {
      "cell_type": "code",
      "metadata": {
        "colab": {
          "base_uri": "https://localhost:8080/"
        },
        "id": "6mljQZa4d0JV",
        "outputId": "1664ead5-dab5-42e4-c4f3-7707a8069717"
      },
      "source": [
        "binarySearchDesarrollo(lista_, 2)"
      ],
      "execution_count": 18,
      "outputs": [
        {
          "output_type": "stream",
          "text": [
            "Valor low: 0\n",
            "Valor high: 6\n",
            "Valor mid: 3\n",
            "Valor low: 0\n",
            "Valor high: 2\n",
            "Valor mid: 1\n",
            "Valor low: 0\n",
            "Valor high: 0\n",
            "Valor mid: 0\n"
          ],
          "name": "stdout"
        },
        {
          "output_type": "execute_result",
          "data": {
            "text/plain": [
              "0"
            ]
          },
          "metadata": {
            "tags": []
          },
          "execution_count": 18
        }
      ]
    },
    {
      "cell_type": "code",
      "metadata": {
        "colab": {
          "base_uri": "https://localhost:8080/"
        },
        "id": "ICnd7Faed_pu",
        "outputId": "184812e8-fb56-4fe0-9a32-c7b4387794da"
      },
      "source": [
        "binarySearchDesarrollo(lista_, 47)"
      ],
      "execution_count": 19,
      "outputs": [
        {
          "output_type": "stream",
          "text": [
            "Valor low: 0\n",
            "Valor high: 6\n",
            "Valor mid: 3\n",
            "Valor low: 4\n",
            "Valor high: 6\n",
            "Valor mid: 5\n",
            "Valor low: 6\n",
            "Valor high: 6\n",
            "Valor mid: 6\n"
          ],
          "name": "stdout"
        },
        {
          "output_type": "execute_result",
          "data": {
            "text/plain": [
              "-1"
            ]
          },
          "metadata": {
            "tags": []
          },
          "execution_count": 19
        }
      ]
    },
    {
      "cell_type": "code",
      "metadata": {
        "colab": {
          "base_uri": "https://localhost:8080/"
        },
        "id": "LCWunqhSeS-l",
        "outputId": "428f63ba-923e-4821-953f-021978ee7916"
      },
      "source": [
        "lista_1 = [2,4,6,6,16,24,36]\n",
        "binarySearchDesarrollo(lista_1, 6)"
      ],
      "execution_count": 21,
      "outputs": [
        {
          "output_type": "stream",
          "text": [
            "Valor low: 0\n",
            "Valor high: 6\n",
            "Valor mid: 3\n"
          ],
          "name": "stdout"
        },
        {
          "output_type": "execute_result",
          "data": {
            "text/plain": [
              "3"
            ]
          },
          "metadata": {
            "tags": []
          },
          "execution_count": 21
        }
      ]
    },
    {
      "cell_type": "code",
      "metadata": {
        "id": "68VeOvG1ewFa"
      },
      "source": [
        "def firstElement(items, value):\n",
        "  low = 0\n",
        "  high = len(items) - 1\n",
        "  res = -1\n",
        "\n",
        "  while low <= high:\n",
        "    mid = (high + low)//2\n",
        "    if items[mid] < value:\n",
        "      low = mid + 1\n",
        "    elif items[mid] > value:\n",
        "      high = mid - 1\n",
        "    else:\n",
        "      res = mid\n",
        "      high = mid - 1\n",
        "  return res"
      ],
      "execution_count": 30,
      "outputs": []
    },
    {
      "cell_type": "code",
      "metadata": {
        "id": "DK5LHmVBja_n"
      },
      "source": [
        "def lastElement(items, value):\n",
        "  low = 0\n",
        "  high = len(items) - 1\n",
        "  res = -1\n",
        "\n",
        "  while low <= high:\n",
        "    mid = (high + low)//2\n",
        "    if items[mid] < value:\n",
        "      low = mid + 1\n",
        "    elif items[mid] > value:\n",
        "      high = mid - 1\n",
        "    else:\n",
        "      res = mid\n",
        "      low = mid + 1\n",
        "  return res"
      ],
      "execution_count": 31,
      "outputs": []
    },
    {
      "cell_type": "code",
      "metadata": {
        "colab": {
          "base_uri": "https://localhost:8080/"
        },
        "id": "sjTeqWG3iJnL",
        "outputId": "03b130e6-55c3-4811-b6d9-5f0aa99930e8"
      },
      "source": [
        "items = [2,3,4,5,5,5,6,7,8,12]\n",
        "print(\"El primer elemento es:\", firstElement(items, 5))\n",
        "print(\"El segundo elemento es:\", lastElement(items, 5))"
      ],
      "execution_count": 34,
      "outputs": [
        {
          "output_type": "stream",
          "text": [
            "El primer elemento es: 3\n",
            "El segundo elemento es: 5\n"
          ],
          "name": "stdout"
        }
      ]
    },
    {
      "cell_type": "code",
      "metadata": {
        "id": "cuR2F1OSikyL"
      },
      "source": [
        ""
      ],
      "execution_count": null,
      "outputs": []
    }
  ]
}