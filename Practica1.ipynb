{
  "nbformat": 4,
  "nbformat_minor": 0,
  "metadata": {
    "colab": {
      "name": "Practica1.ipynb",
      "provenance": [],
      "collapsed_sections": []
    },
    "kernelspec": {
      "name": "python3",
      "display_name": "Python 3"
    },
    "language_info": {
      "name": "python"
    }
  },
  "cells": [
    {
      "cell_type": "markdown",
      "metadata": {
        "id": "DLBWTIScAVGv"
      },
      "source": [
        "#**Tipos de datos**"
      ]
    },
    {
      "cell_type": "code",
      "metadata": {
        "colab": {
          "base_uri": "https://localhost:8080/"
        },
        "id": "Rt5F5b5_BGU3",
        "outputId": "3fb31a42-ae48-47ef-8dc5-c716b7e8c5d7"
      },
      "source": [
        "a = 7\n",
        "float(a)\n",
        "type(a)"
      ],
      "execution_count": 21,
      "outputs": [
        {
          "output_type": "execute_result",
          "data": {
            "text/plain": [
              "int"
            ]
          },
          "metadata": {
            "tags": []
          },
          "execution_count": 21
        }
      ]
    },
    {
      "cell_type": "code",
      "metadata": {
        "colab": {
          "base_uri": "https://localhost:8080/"
        },
        "id": "CkcW0gE4CywG",
        "outputId": "df340b35-af2d-440b-96c0-1773ea399068"
      },
      "source": [
        "\n",
        "float(a)"
      ],
      "execution_count": 22,
      "outputs": [
        {
          "output_type": "execute_result",
          "data": {
            "text/plain": [
              "7.0"
            ]
          },
          "metadata": {
            "tags": []
          },
          "execution_count": 22
        }
      ]
    },
    {
      "cell_type": "code",
      "metadata": {
        "colab": {
          "base_uri": "https://localhost:8080/"
        },
        "id": "UhjovEmaBgbg",
        "outputId": "636883b9-0274-4541-bf02-2a29d9a84b46"
      },
      "source": [
        "flotante = 8.5\n",
        "int(flotante)\n",
        "type(flotante)"
      ],
      "execution_count": 23,
      "outputs": [
        {
          "output_type": "execute_result",
          "data": {
            "text/plain": [
              "float"
            ]
          },
          "metadata": {
            "tags": []
          },
          "execution_count": 23
        }
      ]
    },
    {
      "cell_type": "code",
      "metadata": {
        "colab": {
          "base_uri": "https://localhost:8080/"
        },
        "id": "WfnB7C7xBpla",
        "outputId": "7de9e723-1214-49ea-fe7a-5f855d8eb31f"
      },
      "source": [
        "bool1 = True\n",
        "bool2 = False\n",
        "\n",
        "string = 'texto1'\n",
        "complejo = 7 + 5j\n",
        "type(complejo)\n",
        "\n"
      ],
      "execution_count": 24,
      "outputs": [
        {
          "output_type": "execute_result",
          "data": {
            "text/plain": [
              "complex"
            ]
          },
          "metadata": {
            "tags": []
          },
          "execution_count": 24
        }
      ]
    },
    {
      "cell_type": "code",
      "metadata": {
        "colab": {
          "base_uri": "https://localhost:8080/"
        },
        "id": "RCN2NF0LCDt_",
        "outputId": "e8543a02-3497-44a1-d4cd-070ceb939805"
      },
      "source": [
        "print(flotante == a)"
      ],
      "execution_count": 25,
      "outputs": [
        {
          "output_type": "stream",
          "text": [
            "False\n"
          ],
          "name": "stdout"
        }
      ]
    },
    {
      "cell_type": "code",
      "metadata": {
        "colab": {
          "base_uri": "https://localhost:8080/"
        },
        "id": "MTSwXPSzC966",
        "outputId": "58503723-632c-4af9-93a2-d3e02398d89e"
      },
      "source": [
        "print(not True and not False)"
      ],
      "execution_count": 26,
      "outputs": [
        {
          "output_type": "stream",
          "text": [
            "False\n"
          ],
          "name": "stdout"
        }
      ]
    },
    {
      "cell_type": "markdown",
      "metadata": {
        "id": "OeV6HZdNDxOg"
      },
      "source": [
        "#**Sentencias if**"
      ]
    },
    {
      "cell_type": "code",
      "metadata": {
        "colab": {
          "base_uri": "https://localhost:8080/"
        },
        "id": "TFqA27eLDYPu",
        "outputId": "0b8261d7-1276-4cbc-a7a3-f33d5fe771a1"
      },
      "source": [
        "print(\"Inicia un programa\")\n",
        "print(\"Seleccione la opción deseada\")\n",
        "print(\"Opción 1\")\n",
        "print(\"Opción 2\")\n",
        "print(\"Opción 3\")\n",
        "\n",
        "opcion = int(input(\"Seleccione una opcion:\"))\n",
        "\n",
        "if opcion == 1:\n",
        "  print('Elegiste la opcion 1')\n",
        "elif opcion == 2:\n",
        "  print('Elegiste la opcion 2')\n",
        "elif opcion == 3:\n",
        "  print('Elegiste la opcion 3')\n"
      ],
      "execution_count": 28,
      "outputs": [
        {
          "output_type": "stream",
          "text": [
            "Inicia un programa\n",
            "Seleccione la opción deseada\n",
            "Opción 1\n",
            "Opción 2\n",
            "Opción 3\n",
            "Seleccione una opcion:1\n",
            "Elegiste la opcion 1\n"
          ],
          "name": "stdout"
        }
      ]
    },
    {
      "cell_type": "markdown",
      "metadata": {
        "id": "M3aATTPoG7P1"
      },
      "source": [
        "#**Listas y bucles for**"
      ]
    },
    {
      "cell_type": "markdown",
      "metadata": {
        "id": "fhYmVxzPHIhg"
      },
      "source": [
        "Una lista es una estructura de datos que puede almacenar; strings, enteros, flotantes, complejos, longs, también almacena otras estructuras de datos como; otras listas, diccionarios y tuplas"
      ]
    },
    {
      "cell_type": "code",
      "metadata": {
        "id": "fAYKCSvaGKbj"
      },
      "source": [
        "lista = [1,2,3,4,5,6,7,8,9]"
      ],
      "execution_count": null,
      "outputs": []
    },
    {
      "cell_type": "code",
      "metadata": {
        "colab": {
          "base_uri": "https://localhost:8080/"
        },
        "id": "DM5kvCmJHy-Q",
        "outputId": "b6c1f45e-9de9-4bb1-b27a-a3d231be1764"
      },
      "source": [
        "lista.append(63)\n",
        "lista"
      ],
      "execution_count": null,
      "outputs": [
        {
          "output_type": "execute_result",
          "data": {
            "text/plain": [
              "[1, 2, 3, 4, 5, 6, 7, 8, 9, 63]"
            ]
          },
          "metadata": {
            "tags": []
          },
          "execution_count": 15
        }
      ]
    },
    {
      "cell_type": "code",
      "metadata": {
        "id": "PUZeLx9yH7zt"
      },
      "source": [
        "lista.extend([3,4,5,7])"
      ],
      "execution_count": null,
      "outputs": []
    },
    {
      "cell_type": "code",
      "metadata": {
        "colab": {
          "base_uri": "https://localhost:8080/"
        },
        "id": "ZcOqjWcRIRAl",
        "outputId": "b2cfe76b-0bc8-4a53-fdde-e88ee4a8bbb1"
      },
      "source": [
        "lista"
      ],
      "execution_count": null,
      "outputs": [
        {
          "output_type": "execute_result",
          "data": {
            "text/plain": [
              "[1, 2, 3, 4, 5, 6, 7, 8, 9, 63, 3, 4, 5, 7]"
            ]
          },
          "metadata": {
            "tags": []
          },
          "execution_count": 17
        }
      ]
    },
    {
      "cell_type": "code",
      "metadata": {
        "colab": {
          "base_uri": "https://localhost:8080/"
        },
        "id": "f7iVkTZgIRzG",
        "outputId": "456433b7-2c21-4986-dda1-6becee6eb0cf"
      },
      "source": [
        "copy_list = lista.copy()\n",
        "copy_list"
      ],
      "execution_count": null,
      "outputs": [
        {
          "output_type": "execute_result",
          "data": {
            "text/plain": [
              "[1, 2, 3, 4, 5, 6, 7, 8, 9, 63, 3, 4, 5, 7]"
            ]
          },
          "metadata": {
            "tags": []
          },
          "execution_count": 19
        }
      ]
    },
    {
      "cell_type": "code",
      "metadata": {
        "colab": {
          "base_uri": "https://localhost:8080/"
        },
        "id": "uLPIaFiAIgTV",
        "outputId": "6a583363-bf9c-4c44-960e-c035d24f6f2e"
      },
      "source": [
        "copy_list[1:6]"
      ],
      "execution_count": null,
      "outputs": [
        {
          "output_type": "execute_result",
          "data": {
            "text/plain": [
              "[2, 3, 4, 5, 6]"
            ]
          },
          "metadata": {
            "tags": []
          },
          "execution_count": 21
        }
      ]
    },
    {
      "cell_type": "code",
      "metadata": {
        "colab": {
          "base_uri": "https://localhost:8080/"
        },
        "id": "X1VHX69WJZPt",
        "outputId": "61848614-61d4-4511-c2a9-61d39fc504e3"
      },
      "source": [
        "copy_list.insert(0, 50)\n",
        "copy_list"
      ],
      "execution_count": null,
      "outputs": [
        {
          "output_type": "execute_result",
          "data": {
            "text/plain": [
              "[50, 1, 2, 3, 4, 5, 6, 7, 8, 9, 63, 3, 4, 5, 7]"
            ]
          },
          "metadata": {
            "tags": []
          },
          "execution_count": 22
        }
      ]
    },
    {
      "cell_type": "code",
      "metadata": {
        "colab": {
          "base_uri": "https://localhost:8080/"
        },
        "id": "ME7IRb7KJ5KE",
        "outputId": "0583361d-c883-4207-c4ec-8b0ef69d50bd"
      },
      "source": [
        "lista[0]\n",
        "#for i in copy_list:\n",
        " # print(i)"
      ],
      "execution_count": null,
      "outputs": [
        {
          "output_type": "execute_result",
          "data": {
            "text/plain": [
              "1"
            ]
          },
          "metadata": {
            "tags": []
          },
          "execution_count": 26
        }
      ]
    },
    {
      "cell_type": "code",
      "metadata": {
        "colab": {
          "base_uri": "https://localhost:8080/"
        },
        "id": "-cT8xrwhKB69",
        "outputId": "e1a7ab95-6af0-440c-ee1e-fbec0e677126"
      },
      "source": [
        "for j in range(0, len(copy_list)-1):\n",
        "  print(copy_list[j])\n",
        "  if copy_list[j] == 63:\n",
        "    break"
      ],
      "execution_count": null,
      "outputs": [
        {
          "output_type": "stream",
          "text": [
            "50\n",
            "1\n",
            "2\n",
            "3\n",
            "4\n",
            "5\n",
            "6\n",
            "7\n",
            "8\n",
            "9\n",
            "63\n"
          ],
          "name": "stdout"
        }
      ]
    },
    {
      "cell_type": "code",
      "metadata": {
        "id": "1-8H2fxTKX0X"
      },
      "source": [
        "lista_compleja = ['hola', 1,2,3,4,5, [34,5,6], {\"1\":1,\"2\":2}, 8.0,9.0, True, 7 + 6j]"
      ],
      "execution_count": 3,
      "outputs": []
    },
    {
      "cell_type": "code",
      "metadata": {
        "colab": {
          "base_uri": "https://localhost:8080/"
        },
        "id": "CyhPt3JJL82M",
        "outputId": "b3dab6ae-9bcb-4a78-bcd0-a5d5c511462c"
      },
      "source": [
        "for index in range(0, len(lista_compleja)-1):\n",
        "  if type(lista_compleja[index]) == list:\n",
        "    a = lista_compleja[index]\n",
        "print(a)\n"
      ],
      "execution_count": 4,
      "outputs": [
        {
          "output_type": "stream",
          "text": [
            "[34, 5, 6]\n"
          ],
          "name": "stdout"
        }
      ]
    },
    {
      "cell_type": "markdown",
      "metadata": {
        "id": "wxxO0-7YM4xX"
      },
      "source": [
        "#**Funciones**"
      ]
    },
    {
      "cell_type": "code",
      "metadata": {
        "id": "p_l5iEfVMxOs"
      },
      "source": [
        "def get_my_list(lista_compleja):\n",
        "  for index in range(0,len(lista_compleja)-1):\n",
        "\n",
        "    if type (lista_compleja[index]) == list:\n",
        "      \n",
        "      output_list = lista_compleja[index]\n",
        "\n",
        "    return output_list\n"
      ],
      "execution_count": 49,
      "outputs": []
    },
    {
      "cell_type": "code",
      "metadata": {
        "id": "-D5SAZT6QEJ2"
      },
      "source": [
        "def get_list():\n",
        "  for index in range (0,len(lista_compleja)-1):\n",
        "    if type (lista_compleja[index]) == list:\n",
        "      a = lista_compleja [index]"
      ],
      "execution_count": 54,
      "outputs": []
    },
    {
      "cell_type": "code",
      "metadata": {
        "colab": {
          "base_uri": "https://localhost:8080/"
        },
        "id": "7OxE4cIxEIl2",
        "outputId": "dd092803-4420-476e-c11c-55f8ed0a004d"
      },
      "source": [
        "lista_fill = []\n",
        "for i in range(0,20):\n",
        "  lista_fill.append(i)\n",
        "lista_fill"
      ],
      "execution_count": 7,
      "outputs": [
        {
          "output_type": "execute_result",
          "data": {
            "text/plain": [
              "[0, 1, 2, 3, 4, 5, 6, 7, 8, 9, 10, 11, 12, 13, 14, 15, 16, 17, 18, 19]"
            ]
          },
          "metadata": {
            "tags": []
          },
          "execution_count": 7
        }
      ]
    },
    {
      "cell_type": "code",
      "metadata": {
        "colab": {
          "base_uri": "https://localhost:8080/"
        },
        "id": "Dpwa0WUREjE8",
        "outputId": "20d90a14-7058-4ff6-d8f7-a908ab098bdd"
      },
      "source": [
        "index = 0\n",
        "while index < len(lista_fill):\n",
        "  print(lista_fill[index])\n",
        "  index = index + 1 #index += 1\n",
        "  "
      ],
      "execution_count": 9,
      "outputs": [
        {
          "output_type": "stream",
          "text": [
            "0\n",
            "1\n",
            "2\n",
            "3\n",
            "4\n",
            "5\n",
            "6\n",
            "7\n",
            "8\n",
            "9\n",
            "10\n",
            "11\n",
            "12\n",
            "13\n",
            "14\n",
            "15\n",
            "16\n",
            "17\n",
            "18\n",
            "19\n"
          ],
          "name": "stdout"
        }
      ]
    },
    {
      "cell_type": "code",
      "metadata": {
        "colab": {
          "base_uri": "https://localhost:8080/"
        },
        "id": "z56W5oQCFV_o",
        "outputId": "73f1cf78-8967-4a3a-f335-667f49232730"
      },
      "source": [
        "intervalo = 4\n",
        "contador = 0\n",
        "split_list = []\n",
        "\n",
        "while contador < len(lista_fill):\n",
        "  split_list.append(lista_fill[contador:contador+intervalo])\n",
        "  contador += intervalo\n",
        "print(split_list)"
      ],
      "execution_count": 10,
      "outputs": [
        {
          "output_type": "stream",
          "text": [
            "[[0, 1, 2, 3], [4, 5, 6, 7], [8, 9, 10, 11], [12, 13, 14, 15], [16, 17, 18, 19]]\n"
          ],
          "name": "stdout"
        }
      ]
    },
    {
      "cell_type": "markdown",
      "metadata": {
        "id": "HEmv5ZoeGj9-"
      },
      "source": [
        "#**Diccionarios**"
      ]
    },
    {
      "cell_type": "markdown",
      "metadata": {
        "id": "vrgeNBMEGnuC"
      },
      "source": [
        "Un diccionario es una estructura de datos en Python que almacena diferentes tipos de datos y son obtenidos mediante keys."
      ]
    },
    {
      "cell_type": "code",
      "metadata": {
        "id": "6-fbcRHAGMwh"
      },
      "source": [
        "diccionario = {'nombre': 'Nestor', 'edad':22, 'curso': 'Python'}"
      ],
      "execution_count": 11,
      "outputs": []
    },
    {
      "cell_type": "code",
      "metadata": {
        "colab": {
          "base_uri": "https://localhost:8080/"
        },
        "id": "FipPV_v1Hlu9",
        "outputId": "41323620-f8b5-4756-f9fe-f2785ce7312e"
      },
      "source": [
        "type(diccionario)"
      ],
      "execution_count": 12,
      "outputs": [
        {
          "output_type": "execute_result",
          "data": {
            "text/plain": [
              "dict"
            ]
          },
          "metadata": {
            "tags": []
          },
          "execution_count": 12
        }
      ]
    },
    {
      "cell_type": "code",
      "metadata": {
        "id": "1RRe_UmKHnjJ"
      },
      "source": [
        "diccionario2 = dict(nombre = 'Nestor', edad = 22, curso = 'Python')"
      ],
      "execution_count": 14,
      "outputs": []
    },
    {
      "cell_type": "code",
      "metadata": {
        "colab": {
          "base_uri": "https://localhost:8080/"
        },
        "id": "I5RDVgzKHzTs",
        "outputId": "780537fa-6c1d-4ddb-bb81-f138fe70582c"
      },
      "source": [
        "diccionario2"
      ],
      "execution_count": 15,
      "outputs": [
        {
          "output_type": "execute_result",
          "data": {
            "text/plain": [
              "{'curso': 'Python', 'edad': 22, 'nombre': 'Nestor'}"
            ]
          },
          "metadata": {
            "tags": []
          },
          "execution_count": 15
        }
      ]
    },
    {
      "cell_type": "code",
      "metadata": {
        "colab": {
          "base_uri": "https://localhost:8080/"
        },
        "id": "iQtV_vB_H6Q2",
        "outputId": "64df0625-d95a-4f15-a7ca-d411b2027633"
      },
      "source": [
        "diccionario.keys()"
      ],
      "execution_count": 16,
      "outputs": [
        {
          "output_type": "execute_result",
          "data": {
            "text/plain": [
              "dict_keys(['nombre', 'edad', 'curso'])"
            ]
          },
          "metadata": {
            "tags": []
          },
          "execution_count": 16
        }
      ]
    },
    {
      "cell_type": "code",
      "metadata": {
        "colab": {
          "base_uri": "https://localhost:8080/"
        },
        "id": "yRHovleDH_BO",
        "outputId": "ac6d5f51-35ef-40da-9fc0-bd0679ca514e"
      },
      "source": [
        "diccionario.values()"
      ],
      "execution_count": 17,
      "outputs": [
        {
          "output_type": "execute_result",
          "data": {
            "text/plain": [
              "dict_values(['Nestor', 22, 'Python'])"
            ]
          },
          "metadata": {
            "tags": []
          },
          "execution_count": 17
        }
      ]
    },
    {
      "cell_type": "code",
      "metadata": {
        "colab": {
          "base_uri": "https://localhost:8080/"
        },
        "id": "ZZgQKjStIhhc",
        "outputId": "d1606937-677e-47f8-fd52-754d49d07933"
      },
      "source": [
        "len(diccionario)"
      ],
      "execution_count": 18,
      "outputs": [
        {
          "output_type": "execute_result",
          "data": {
            "text/plain": [
              "3"
            ]
          },
          "metadata": {
            "tags": []
          },
          "execution_count": 18
        }
      ]
    },
    {
      "cell_type": "code",
      "metadata": {
        "colab": {
          "base_uri": "https://localhost:8080/"
        },
        "id": "w6lI39EXImig",
        "outputId": "a252dd55-0eb8-4ac9-989c-c0662379ec5f"
      },
      "source": [
        "for key in diccionario.keys():\n",
        "  print(diccionario[key])"
      ],
      "execution_count": 19,
      "outputs": [
        {
          "output_type": "stream",
          "text": [
            "Nestor\n",
            "22\n",
            "Python\n"
          ],
          "name": "stdout"
        }
      ]
    },
    {
      "cell_type": "code",
      "metadata": {
        "id": "I7HgX9dqI4a5"
      },
      "source": [
        "import requests"
      ],
      "execution_count": 20,
      "outputs": []
    },
    {
      "cell_type": "code",
      "metadata": {
        "colab": {
          "base_uri": "https://localhost:8080/"
        },
        "id": "Gi0QMb_SJbqT",
        "outputId": "6b061e1e-ae32-46fa-fadc-f496af13c81f"
      },
      "source": [
        "url = \"https://pokeapi.co/api/v2/pokemon/144\"\n",
        "response = requests.get(url)\n",
        "response\n",
        "#response.json()"
      ],
      "execution_count": 30,
      "outputs": [
        {
          "output_type": "execute_result",
          "data": {
            "text/plain": [
              "<Response [200]>"
            ]
          },
          "metadata": {
            "tags": []
          },
          "execution_count": 30
        }
      ]
    },
    {
      "cell_type": "code",
      "metadata": {
        "id": "EAYY9T6MJ75v"
      },
      "source": [
        "dict_pokemon = response.json()\n",
        "dict_pokemon"
      ],
      "execution_count": null,
      "outputs": []
    },
    {
      "cell_type": "code",
      "metadata": {
        "colab": {
          "base_uri": "https://localhost:8080/"
        },
        "id": "55WG7XkTK7dq",
        "outputId": "d59f03ee-a7af-4aaa-822b-f78e2e2e581d"
      },
      "source": [
        "dict_pokemon.keys()"
      ],
      "execution_count": 33,
      "outputs": [
        {
          "output_type": "execute_result",
          "data": {
            "text/plain": [
              "dict_keys(['abilities', 'base_experience', 'forms', 'game_indices', 'height', 'held_items', 'id', 'is_default', 'location_area_encounters', 'moves', 'name', 'order', 'past_types', 'species', 'sprites', 'stats', 'types', 'weight'])"
            ]
          },
          "metadata": {
            "tags": []
          },
          "execution_count": 33
        }
      ]
    },
    {
      "cell_type": "code",
      "metadata": {
        "colab": {
          "base_uri": "https://localhost:8080/"
        },
        "id": "ZY0HL94zLWvf",
        "outputId": "8641b132-b97b-4c88-a1f3-787cf5f52c89"
      },
      "source": [
        "dict_pokemon['forms']"
      ],
      "execution_count": 34,
      "outputs": [
        {
          "output_type": "execute_result",
          "data": {
            "text/plain": [
              "[{'name': 'articuno', 'url': 'https://pokeapi.co/api/v2/pokemon-form/144/'}]"
            ]
          },
          "metadata": {
            "tags": []
          },
          "execution_count": 34
        }
      ]
    },
    {
      "cell_type": "code",
      "metadata": {
        "id": "cQgGehQ5La4I"
      },
      "source": [
        "diccionario_arm = {\n",
        "    \"$schema\": \"https://schema.management.azure.com/schemas/2019-04-01/deploymentTemplate.json\",\n",
        "    \"contentVersion\": \"1.0.0.0\",\n",
        "    \"parameters\": {\n",
        "        \"nombreStorage\": {\n",
        "            \"type\": \"String\",\n",
        "            \"minLength\": 3,\n",
        "            \"maxLength\": 24\n",
        "        }\n",
        "        \n",
        "\n",
        "    },\n",
        "    \"resources\": [\n",
        "        {\n",
        "            \"type\": \"Microsoft.Storage/storageAccounts\",\n",
        "            \"apiVersion\": \"2021-04-01\",\n",
        "            \"name\": \"appconarmtemplate\",\n",
        "            \"location\": \"South Central US\",\n",
        "            \"sku\":{\n",
        "                \"name\": \"Standard_LRS\"\n",
        "            },\n",
        "            \"kind\": \"StorageV2\",\n",
        "            \"properties\": {\n",
        "                \"supportsHttpsTrafficOnly\": True\n",
        "            }\n",
        "\n",
        "        }\n",
        "    ]\n",
        "}"
      ],
      "execution_count": 41,
      "outputs": []
    },
    {
      "cell_type": "code",
      "metadata": {
        "colab": {
          "base_uri": "https://localhost:8080/"
        },
        "id": "FfKYqnDwNYpA",
        "outputId": "314fd4f5-3748-41fa-edc1-c477ba7dfd43"
      },
      "source": [
        "diccionario_arm.keys()"
      ],
      "execution_count": 42,
      "outputs": [
        {
          "output_type": "execute_result",
          "data": {
            "text/plain": [
              "dict_keys(['$schema', 'contentVersion', 'parameters', 'resources'])"
            ]
          },
          "metadata": {
            "tags": []
          },
          "execution_count": 42
        }
      ]
    },
    {
      "cell_type": "code",
      "metadata": {
        "colab": {
          "base_uri": "https://localhost:8080/"
        },
        "id": "t1NxeEIxN_z2",
        "outputId": "fdfa314d-7ad3-4c82-f0ae-c989e70706fd"
      },
      "source": [
        "diccionario_arm['resources']"
      ],
      "execution_count": 43,
      "outputs": [
        {
          "output_type": "execute_result",
          "data": {
            "text/plain": [
              "[{'apiVersion': '2021-04-01',\n",
              "  'kind': 'StorageV2',\n",
              "  'location': 'South Central US',\n",
              "  'name': 'appconarmtemplate',\n",
              "  'properties': {'supportsHttpsTrafficOnly': True},\n",
              "  'sku': {'name': 'Standard_LRS'},\n",
              "  'type': 'Microsoft.Storage/storageAccounts'}]"
            ]
          },
          "metadata": {
            "tags": []
          },
          "execution_count": 43
        }
      ]
    },
    {
      "cell_type": "code",
      "metadata": {
        "id": "tBPW677XOaGb"
      },
      "source": [
        "diccionario_arm['resources'][0]['location'] = 'East US'"
      ],
      "execution_count": 46,
      "outputs": []
    },
    {
      "cell_type": "code",
      "metadata": {
        "colab": {
          "base_uri": "https://localhost:8080/"
        },
        "id": "akzYZbYlOlXZ",
        "outputId": "b5a93ffd-40e5-44a6-b5a1-0099527dae3a"
      },
      "source": [
        "diccionario_arm['resources'][0]"
      ],
      "execution_count": 47,
      "outputs": [
        {
          "output_type": "execute_result",
          "data": {
            "text/plain": [
              "{'apiVersion': '2021-04-01',\n",
              " 'kind': 'StorageV2',\n",
              " 'location': 'East US',\n",
              " 'name': 'appconarmtemplate',\n",
              " 'properties': {'supportsHttpsTrafficOnly': True},\n",
              " 'sku': {'name': 'Standard_LRS'},\n",
              " 'type': 'Microsoft.Storage/storageAccounts'}"
            ]
          },
          "metadata": {
            "tags": []
          },
          "execution_count": 47
        }
      ]
    },
    {
      "cell_type": "markdown",
      "metadata": {
        "id": "Z7_QRegRPkiv"
      },
      "source": [
        "Tuplas: Es una estructura de datos inmutable, almacena valores de cualquier tipo de dato"
      ]
    },
    {
      "cell_type": "code",
      "metadata": {
        "id": "m0s9bOIfPI_t"
      },
      "source": [
        "tupla = (1,2,3,4)"
      ],
      "execution_count": 51,
      "outputs": []
    },
    {
      "cell_type": "code",
      "metadata": {
        "colab": {
          "base_uri": "https://localhost:8080/"
        },
        "id": "dnDDxfm7Pu_p",
        "outputId": "deccb423-ef1c-4723-f8b5-fe951ba6869d"
      },
      "source": [
        "tupla.count(3)"
      ],
      "execution_count": 52,
      "outputs": [
        {
          "output_type": "execute_result",
          "data": {
            "text/plain": [
              "1"
            ]
          },
          "metadata": {
            "tags": []
          },
          "execution_count": 52
        }
      ]
    },
    {
      "cell_type": "code",
      "metadata": {
        "colab": {
          "base_uri": "https://localhost:8080/"
        },
        "id": "7maRxsvbPwwM",
        "outputId": "ee9f594b-43da-4f68-fcd6-69446085e598"
      },
      "source": [
        "for i in tupla:\n",
        "  print(i)"
      ],
      "execution_count": 53,
      "outputs": [
        {
          "output_type": "stream",
          "text": [
            "1\n",
            "2\n",
            "3\n",
            "4\n"
          ],
          "name": "stdout"
        }
      ]
    },
    {
      "cell_type": "code",
      "metadata": {
        "id": "1bd1hkypQTlD"
      },
      "source": [
        ""
      ],
      "execution_count": null,
      "outputs": []
    }
  ]
}